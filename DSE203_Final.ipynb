{
 "cells": [
  {
   "cell_type": "code",
   "execution_count": 1,
   "metadata": {},
   "outputs": [],
   "source": [
    "import requests\n",
    "from time import time\n",
    "import pickle"
   ]
  },
  {
   "cell_type": "markdown",
   "metadata": {},
   "source": [
    "# 1. Clustering covid topics"
   ]
  },
  {
   "cell_type": "code",
   "execution_count": 2,
   "metadata": {},
   "outputs": [],
   "source": [
    "topicMap = dict()\n",
    "topicMap['generic'] = [\"corona\", \"#corona\", \"coronavirus\", \"#coronavirus\", \"covid\", \"#covid\", \"covid19\", \"#covid19\", \"covid-19\", \"#covid-19\", \"sarscov2\", \"#sarscov2\", \"sars cov2\", \"sars cov 2\", \"covid_19\", \"#covid_19\", \"pandemic\", \"#pandemic\" ,\"#coronaupdate\"]\n",
    "topicMap['covid_count'] = [\"#ncov\", \"ncov\", \"#ncov2019\", \"ncov2019\", \"2019-ncov\", \"#2019-ncov\", \"#2019ncov\", \"2019ncov\"]\n",
    "topicMap['government_norms'] =  [\"#lockdown\", \"lockdown\"]\n",
    "topicMap['safety_guidelines'] =  [\"social distancing\", \"#socialdistancing\", \"wash ur hands\", \"wash your hands\", \"#washurhands\", \"#washyourhands\" , \"wearamask\", \"#wearamask\", \"wear a mask\"]\n",
    "topicMap['public_tackling_covid'] = [\"quarantine\", \"#quarantine\", \"#selfisolating\", \"self isolating\" , \"flatten the curve\", \"flattening the curve\", \"#flatteningthecurve\", \"#flattenthecurve\"]\n",
    "topicMap['vaccines_and_medicines'] = [\"vaccine\", \"vaccines\", \"#vaccine\", \"#vaccines\", \"corona vaccine\", \"corona vaccines\", \"#coronavaccine\", \"#coronavaccines\"]\n",
    "topicMap['herd_immunity'] = [\"herd immunity\", \"#herdimmunity\"]\n",
    "topicMap['working_from_home'] = [\"#stayathome\", \"#stayhome\",\"#wfh\", \"work from home\", \"#workfromhome\", \"working from home\", \"#workingfromhome\", \"#stayhomestaysafe\", \"#hometasking\"]\n",
    "topicMap['protective_equipment'] = [\"n95\" , \"ppe\", \"#ppe\", \"#n95\", \"hand sanitizer\", \"#handsanitizer\" ,\"#faceshields\", \"#masks4all\", \"face shield\", \"#faceshield\", \"face shields\"] \n",
    "topicMap['people_not_following_measures'] = [\"#covidiots\", \"covidiots\"]\n",
    "topicMap['comparison_with_flu']  = [\"pneumonia\", \"#pneumonia\"]\n",
    "topicMap['covid_nick_names'] = [\"chinese virus\", \"#chinesevirus\", \"wuhan virus\", \"#wuhanvirus\", \"kung flu\", \"#kungflu\"]\n",
    "topicMap['health_workers'] = [\"health worker\", \"#healthworker\", \"health workers\", \"#healthworkers\", \"#frontlineheroes\", \"#coronawarriors\"]\n",
    "topicMap['home_schooling'] = [\"#homeschool\", \"#homeschooling\"]\n",
    "                                    \n",
    "pickle.dump(topicMap, open( \"topics.pkl\", \"wb\" ) )"
   ]
  },
  {
   "cell_type": "markdown",
   "metadata": {},
   "source": [
    "# 2. Fetching Topic by Topic and in batches of 1000 and dumping them as jsons"
   ]
  },
  {
   "cell_type": "code",
   "execution_count": 49,
   "metadata": {},
   "outputs": [],
   "source": [
    "def build_data_dict(topic):\n",
    "    data_dict = dict()\n",
    "    query ='text:' + ','.join(topic)\n",
    "    data_dict['q'] = query\n",
    "    data_dict['rows'] = 1000\n",
    "    return data_dict"
   ]
  },
  {
   "cell_type": "code",
   "execution_count": 50,
   "metadata": {},
   "outputs": [
    {
     "name": "stdout",
     "output_type": "stream",
     "text": [
      "Time taken for entire batch rows: 2252.889197\n"
     ]
    }
   ],
   "source": [
    "import os\n",
    "import json\n",
    "\n",
    "start = time()\n",
    "\n",
    "batch = 0\n",
    "\n",
    "url = 'http://awesome-hw.sdsc.edu:8983/solr/political_data/select'\n",
    "\n",
    "for topic in topicMap.keys():\n",
    "    for i in range(0,150000,1000):\n",
    "        data_dict = build_data_dict(topicMap[topic])\n",
    "        data_dict['wt'] = 'json'\n",
    "        data_dict['start'] = i\n",
    "        r = requests.post(url,data = data_dict)\n",
    "        if not os.path.exists('political_tweets/' + topic):\n",
    "            os.mkdir('political_tweets/' + topic)\n",
    "        if eval(r.content)['response']['docs']:\n",
    "            with open('political_tweets/' + topic +'/tweets_'+str(batch)+ '.json','wb') as f:\n",
    "                f.write(r.content)\n",
    "        batch += 1 \n",
    "        #print(\"Completed batch Number %d\"%batch)\n",
    "\n",
    "end = time()\n",
    "\n",
    "print('Time taken for entire batch rows: %f'%(end-start))"
   ]
  },
  {
   "cell_type": "code",
   "execution_count": 15,
   "metadata": {},
   "outputs": [
    {
     "data": {
      "text/plain": [
       "['public_tackling_covid',\n",
       " 'covid_count',\n",
       " 'government_norms',\n",
       " 'safety_guidelines',\n",
       " 'protective_equipment',\n",
       " 'vaccines_and_medicines',\n",
       " 'herd_immunity',\n",
       " '.Rhistory',\n",
       " 'home_schooling',\n",
       " 'working_from_home',\n",
       " 'health_workers',\n",
       " 'comparison_with_flu',\n",
       " 'covid_nick_names',\n",
       " 'people_not_following_measures',\n",
       " 'generic']"
      ]
     },
     "execution_count": 15,
     "metadata": {},
     "output_type": "execute_result"
    }
   ],
   "source": [
    "import os\n",
    "os.listdir('./political_tweets/')[:15]"
   ]
  },
  {
   "cell_type": "code",
   "execution_count": 14,
   "metadata": {},
   "outputs": [
    {
     "data": {
      "text/plain": [
       "['tweets_751.json',\n",
       " 'tweets_758.json',\n",
       " 'tweets_776.json',\n",
       " 'tweets_767.json',\n",
       " 'tweets_884.json']"
      ]
     },
     "execution_count": 14,
     "metadata": {},
     "output_type": "execute_result"
    }
   ],
   "source": [
    "os.listdir('./political_tweets/vaccines_and_medicines/')[:5]"
   ]
  },
  {
   "cell_type": "markdown",
   "metadata": {},
   "source": [
    "### For each topic create create labels and add emoji attribute"
   ]
  },
  {
   "cell_type": "code",
   "execution_count": 3,
   "metadata": {},
   "outputs": [],
   "source": [
    "import pandas as pd\n",
    "from glob import glob\n",
    "import ipywidgets as widgets"
   ]
  },
  {
   "cell_type": "markdown",
   "metadata": {},
   "source": [
    "#### Twitter setup"
   ]
  },
  {
   "cell_type": "code",
   "execution_count": 4,
   "metadata": {},
   "outputs": [
    {
     "name": "stderr",
     "output_type": "stream",
     "text": [
      "[nltk_data] Downloading package stopwords to /home/akash/nltk_data...\n",
      "[nltk_data]   Package stopwords is already up-to-date!\n",
      "[nltk_data] Downloading package punkt to /home/akash/nltk_data...\n",
      "[nltk_data]   Package punkt is already up-to-date!\n",
      "[nltk_data] Downloading package wordnet to /home/akash/nltk_data...\n",
      "[nltk_data]   Package wordnet is already up-to-date!\n"
     ]
    }
   ],
   "source": [
    "#!pip install tweepy\n",
    "import os\n",
    "import tweepy as tw\n",
    "import text2emotion as te\n",
    "\n",
    "##  Keys\n",
    "consumer_key= '#'\n",
    "consumer_secret= '#'\n",
    "access_token= '#'\n",
    "access_token_secret= '#'\n",
    "\n",
    "auth = tw.OAuthHandler(consumer_key, consumer_secret)\n",
    "auth.set_access_token(access_token, access_token_secret)\n",
    "api = tw.API(auth, wait_on_rate_limit=True)"
   ]
  },
  {
   "cell_type": "code",
   "execution_count": 13,
   "metadata": {},
   "outputs": [],
   "source": [
    "all_topics = os.listdir('political_tweets/')"
   ]
  },
  {
   "cell_type": "code",
   "execution_count": 14,
   "metadata": {},
   "outputs": [],
   "source": [
    "all_topics.remove('.Rhistory')\n",
    "all_topics.remove('pickles')\n",
    "all_topics.remove('people_not_following_measures')\n",
    "all_topics.remove('covid_count')\n",
    "all_topics.remove('government_norms')\n",
    "all_topics.remove('public_tackling_covid')\n",
    "all_topics.remove('safety_guidelines')"
   ]
  },
  {
   "cell_type": "code",
   "execution_count": 18,
   "metadata": {},
   "outputs": [],
   "source": [
    "all_topics[0] , all_topics[3] = all_topics[3] , all_topics[0]"
   ]
  },
  {
   "cell_type": "code",
   "execution_count": 23,
   "metadata": {},
   "outputs": [],
   "source": [
    "import json"
   ]
  },
  {
   "cell_type": "code",
   "execution_count": 27,
   "metadata": {},
   "outputs": [],
   "source": [
    "def fxget_emotionscore(x):\n",
    "    return te.get_emotion(x)"
   ]
  },
  {
   "cell_type": "code",
   "execution_count": 28,
   "metadata": {},
   "outputs": [],
   "source": [
    "def parse_tweet_object(twobject, twdf, usrdf, pstdf, tgdf, mntndf, rtwtsdf, qtsdf, cntnsdf, rplsdf,topic):\n",
    "    tid=twobject[\"id\"]\n",
    "    \n",
    "    if \"extended_tweet\" in twobject.keys():\n",
    "        twtext=twobject[\"extended_tweet\"][\"full_text\"]\n",
    "        thashtags=twobject[\"extended_tweet\"][\"entities\"][\"hashtags\"]\n",
    "        umentions=twobject[\"extended_tweet\"][\"entities\"][\"user_mentions\"]\n",
    "    else:\n",
    "        twtext=twobject[\"text\"]\n",
    "        thashtags=twobject[\"entities\"][\"hashtags\"]\n",
    "        umentions=twobject[\"entities\"][\"user_mentions\"]\n",
    "    \n",
    "    emotion_dict = fxget_emotionscore(twtext)        \n",
    "    twdf.loc[tid,\"happy\"]= emotion_dict['Happy']\n",
    "    twdf.loc[tid,\"angry\"]=emotion_dict['Angry']\n",
    "    twdf.loc[tid,\"surprise\"]=emotion_dict['Surprise']\n",
    "    twdf.loc[tid,\"sad\"]=emotion_dict['Sad']\n",
    "    twdf.loc[tid,\"fear\"]=emotion_dict['Fear']\n",
    "    twdf.loc[tid,\"topic\"]=topic\n",
    "    \n",
    "    if tid not in twdf.keys():\n",
    "        twdf.loc[tid,\"text\"]=twtext\n",
    "        twdf.loc[tid,\"date\"]=pd.to_datetime(twobject[\"created_at\"])\n",
    "        for key in replykeys:\n",
    "            twdf.loc[tid,key] = twobject[key]\n",
    "            \n",
    "        #set these fields to false by default\n",
    "        twdf.loc[tid,\"retweet\"] = False\n",
    "        twdf.loc[tid,\"quote\"] = False\n",
    "        twdf.loc[tid,\"reply\"] = False\n",
    "    else:\n",
    "        for key in replykeys:\n",
    "            twdf.loc[tid,key] = max(twdf.loc[key], twobject[key])\n",
    "   \n",
    "    uid=twobject[\"user\"][\"id\"]\n",
    "\n",
    "    if uid not in usrdf.index:\n",
    "        usrdf.loc[uid,\"screen_name\"]=twobject[\"user\"][\"screen_name\"]\n",
    "        usrdf.loc[uid,\"created\"]=pd.to_datetime(twobject[\"user\"][\"created_at\"])\n",
    "        usrdf.loc[uid,\"description\"]=twobject[\"user\"][\"description\"]\n",
    "        usrdf.loc[uid,\"location\"]=twobject[\"user\"][\"location\"]\n",
    "\n",
    "    #keep track of maximum number of friends found through database\n",
    "    ufriends=twobject[\"user\"][\"friends_count\"]\n",
    "    \n",
    "    if uid in usrdf.index:\n",
    "        usrdf.loc[uid,\"friends_count\"] = \\\n",
    "            max(ufriends,usrdf.loc[uid,\"friends_count\"])\n",
    "    else:\n",
    "        usrdf.loc[uid,\"friends_count\"] = ufriends\n",
    "\n",
    "    np=len(pstdf)\n",
    "    pstdf.loc[np,\"uID\"] = uid\n",
    "    pstdf.loc[np,\"tID\"] = tid\n",
    "\n",
    "    #extract hashtags\n",
    "    nh=len(tgdf)\n",
    "    for p,ht in enumerate(thashtags):\n",
    "        #twitter hashtags are not case sensitive, so they are converted to lowercase\n",
    "        tgdf.loc[nh+p,\"hashtag\"] = ht[\"text\"].lower()\n",
    "        tgdf.loc[nh+p,\"tID\"] = tid\n",
    "\n",
    "    #extract user mentions\n",
    "    nu=len(mentionsdf)\n",
    "\n",
    "    for p,ment in enumerate(umentions):\n",
    "        mntndf.loc[nu+p,\"tID\"] = tid\n",
    "        mntndf.loc[nu+p,\"uID\"] = ment[\"id\"]\n",
    "        \n",
    "    #extract retweets\n",
    "    if \"retweeted_status\" in twobject.keys():\n",
    "        nr=len(rtwtsdf)\n",
    "        rtwtsdf.loc[nr,\"tID\"] = tid\n",
    "        tid_re=twobject[\"retweeted_status\"][\"id\"]\n",
    "        rtwtsdf.loc[nr,\"tID_re\"] = tid_re\n",
    "        rtwtsdf.loc[nr,\"topic\"]=topic\n",
    "        twdf.loc[tid,\"retweet\"] = True\n",
    "    \n",
    "    if \"quoted_status\" in twobject.keys():\n",
    "        nq=len(qtsdf)\n",
    "        qtsdf.loc[nq,\"tID\"] = tid\n",
    "        qtsdf.loc[nq,\"tID_qo\"] = twobject[\"quoted_status\"][\"id\"]\n",
    "        qtsdf.loc[nq,\"topic\"]=topic\n",
    "        twdf.loc[tid,\"quote\"] = True\n",
    " \n",
    "    urls=twobject[\"entities\"][\"urls\"]\n",
    "    for url in urls:\n",
    "        if \"twitter.com/i/web/status/\" not in url[\"expanded_url\"]:\n",
    "            nc=len(cntnsdf)\n",
    "            cntnsdf.loc[nc,\"url\"] = url[\"url\"]\n",
    "            cntnsdf.loc[nc,\"tid\"] = tid\n",
    "            cntnsdf.loc[nc,\"expanded_url\"] = url[\"expanded_url\"]\n",
    "            \n",
    "        #else:\n",
    "        #    tid_ln=int(url[\"expanded_url\"].split(\"twitter.com/i/web/status/\")[1])\n",
    "        #    nl=len(linkedtweetsdf)\n",
    "        #    linkedtweetsdf.loc[nl,\"tid\"] = tid\n",
    "        #    linkedtweetsdf.loc[nl,\"tid_ln\"] = tid_ln\n",
    "    \n",
    "    #if \"in_reply_to_status_id\" in twobject.keys():\n",
    "    if type(twobject[\"in_reply_to_status_id\"]) != type(None):\n",
    "\n",
    "        nl=len(rplsdf)\n",
    "        rplsdf.loc[nl,\"tID\"] = tid\n",
    "        rplsdf.loc[nl,\"tID_rp\"] = twobject[\"in_reply_to_status_id\"]\n",
    "        rplsdf.loc[nl,\"uID_rp\"] = twobject[\"in_reply_to_user_id\"]\n",
    "        rplsdf.loc[nl,\"topic\"]=topic\n",
    "        twdf.loc[tid, \"reply\"] = True"
   ]
  },
  {
   "cell_type": "code",
   "execution_count": 29,
   "metadata": {},
   "outputs": [],
   "source": [
    "def parse_all_tweets(jsonfile,tweetdf,userdf,postdf,mentionsdf, retweetsdf,quotesdf,tagsdf,containsdf,repliesdf,topic):\n",
    "    tweet=json.load(open(jsonfile, \"rb\"))\n",
    "    alltweets=tweet[\"response\"][\"docs\"]\n",
    "    ntweet=len(alltweets)\n",
    "   \n",
    "    for n in range(ntweet):\n",
    "        atweet=alltweets[n]\n",
    "        fulltweet=eval(atweet[\"fulltweets\"])\n",
    "        \n",
    "        parse_tweet_object(fulltweet,\n",
    "                           tweetdf, userdf, postdf, tagsdf, mentionsdf, \n",
    "                           retweetsdf, quotesdf, containsdf, repliesdf,topic)\n",
    "        \n",
    "        if \"quoted_status\" in fulltweet.keys():\n",
    "            parse_tweet_object(fulltweet[\"quoted_status\"],\n",
    "                               tweetdf, userdf, postdf, tagsdf, mentionsdf, \n",
    "                               retweetsdf, quotesdf, containsdf, repliesdf,topic)\n",
    "            \n",
    "        if \"retweet_status\" in fulltweet.keys():\n",
    "            parse_tweet_object(fulltweet[\"retweet_status\"],\n",
    "                               tweetdf, userdf, postdf, tagsdf, mentionsdf, \n",
    "                               retweetsdf, quotesdf, containsdf, repliesdf,topic)"
   ]
  },
  {
   "cell_type": "code",
   "execution_count": null,
   "metadata": {},
   "outputs": [
    {
     "data": {
      "application/vnd.jupyter.widget-view+json": {
       "model_id": "95ddbdf1782d42f88f6703c2bc981231",
       "version_major": 2,
       "version_minor": 0
      },
      "text/plain": [
       "IntProgress(value=0, max=3)"
      ]
     },
     "metadata": {},
     "output_type": "display_data"
    },
    {
     "name": "stdout",
     "output_type": "stream",
     "text": [
      "Reading political_tweets/home_schooling/tweets_1950.json ...  (100.00%)  done.\n"
     ]
    },
    {
     "data": {
      "application/vnd.jupyter.widget-view+json": {
       "model_id": "502d1a9f50d547529defe4d9188ef08f",
       "version_major": 2,
       "version_minor": 0
      },
      "text/plain": [
       "IntProgress(value=0, max=150)"
      ]
     },
     "metadata": {},
     "output_type": "display_data"
    },
    {
     "name": "stdout",
     "output_type": "stream",
     "text": [
      "Reading political_tweets/vaccines_and_medicines/tweets_805.json ...  (53.33%) "
     ]
    }
   ],
   "source": [
    "replykeys=[\"reply_count\", \"retweet_count\", \"quote_count\", \"favorite_count\"]\n",
    "\n",
    "for i in range(0,len(all_topics)):\n",
    "    tweetfiles=glob(\"political_tweets/\" + all_topics[i] + \"/tweets_*.json\")\n",
    "    tweetdf=pd.DataFrame(columns=[\"text\", \"date\",\"happy\",\"angry\",\"surprise\",\"sad\",\"fear\",\"topic\"] + replykeys + [\"retweet\", \"quote\", \"reply\"])\n",
    "    userdf=pd.DataFrame(columns=[\"screen_name\", \"created\",\"description\",\n",
    "                            \"location\", \"friends_count\"])\n",
    "    #these may be reduntant as the hashtag and url serves as primary key\n",
    "    #hashtags=pd.DataFrame(columns=[\"hashtag\"])\n",
    "    #url=pd.DataFrame(columns=\"url\")\n",
    "    \n",
    "    #these relations will be edges in the graph\n",
    "    postdf=pd.DataFrame(columns=[\"uID\",\"tID\",\"topic\"])\n",
    "    \n",
    "    # tweets mentioning users\n",
    "    mentionsdf=pd.DataFrame(columns=[\"tID\",\"uID\"])\n",
    "    retweetsdf=pd.DataFrame(columns=[\"tID\",\"tID_re\",\"topic\"])\n",
    "    quotesdf=pd.DataFrame(columns=[\"tID\", \"tID_qo\",\"topic\"])\n",
    "    tagsdf=pd.DataFrame(columns=[\"hashtag\",\"tID\"])\n",
    "    containsdf=pd.DataFrame(columns=[\"url\",\"tID\", \"expanded_url\"])\n",
    "    repliesdf=pd.DataFrame(columns=[\"tID\",\"tID_rp\", \"uID_rp\",\"topic\"])\n",
    "    \n",
    "    #linkedtweetsdf=pd.DataFrame(columns=[\"tID\",\"tID_ln\"])\n",
    "    #for file in tweetfiles:\n",
    "    \n",
    "    #parse_tweet_info(file)\n",
    "    from ipywidgets import IntProgress\n",
    "    from IPython.display import display\n",
    "\n",
    "    wb = IntProgress(min=0, max=len(tweetfiles)) \n",
    "    display(wb)\n",
    "\n",
    "    for n,file in enumerate(tweetfiles):\n",
    "        pcent = float(n+1)/len(tweetfiles) * 100.\n",
    "        print(\"\\rReading %s ...  (%4.2f%%) \" % (file, pcent), end=\"\")\n",
    "        parse_all_tweets(file,tweetdf,userdf,postdf,mentionsdf, retweetsdf,quotesdf,tagsdf,containsdf,repliesdf,all_topics[i])\n",
    "        wb.value = n+1\n",
    "        \n",
    "    alldf={\"tweets\": tweetdf, \"users\": userdf, \"posts\": postdf, \"mentions\": mentionsdf, \"retweets\": retweetsdf,\n",
    "      \"quotes\": quotesdf, \"tags\": tagsdf, \"contains\": containsdf,\"replies\":repliesdf}\n",
    "    \n",
    "    if not os.path.exists('political_tweets/pickles'):\n",
    "        os.mkdir('political_tweets/pickles')\n",
    "    pickle.dump(alldf, open(\"political_tweets/pickles/\" + all_topics[i] + \".pkl\", \"wb\"))\n",
    "    \n",
    "    print(\" done.\")"
   ]
  },
  {
   "cell_type": "code",
   "execution_count": 17,
   "metadata": {},
   "outputs": [],
   "source": [
    "import pickle\n",
    "all_df = pickle.load(open('political_tweets/pickles/vaccines_and_medicines.pkl','rb'))"
   ]
  },
  {
   "cell_type": "code",
   "execution_count": 20,
   "metadata": {},
   "outputs": [
    {
     "data": {
      "text/html": [
       "<div>\n",
       "<style scoped>\n",
       "    .dataframe tbody tr th:only-of-type {\n",
       "        vertical-align: middle;\n",
       "    }\n",
       "\n",
       "    .dataframe tbody tr th {\n",
       "        vertical-align: top;\n",
       "    }\n",
       "\n",
       "    .dataframe thead th {\n",
       "        text-align: right;\n",
       "    }\n",
       "</style>\n",
       "<table border=\"1\" class=\"dataframe\">\n",
       "  <thead>\n",
       "    <tr style=\"text-align: right;\">\n",
       "      <th></th>\n",
       "      <th>text</th>\n",
       "      <th>date</th>\n",
       "      <th>happy</th>\n",
       "      <th>angry</th>\n",
       "      <th>surprise</th>\n",
       "      <th>sad</th>\n",
       "      <th>fear</th>\n",
       "      <th>topic</th>\n",
       "      <th>reply_count</th>\n",
       "      <th>retweet_count</th>\n",
       "      <th>quote_count</th>\n",
       "      <th>favorite_count</th>\n",
       "      <th>retweet</th>\n",
       "      <th>quote</th>\n",
       "      <th>reply</th>\n",
       "    </tr>\n",
       "  </thead>\n",
       "  <tbody>\n",
       "    <tr>\n",
       "      <th>1315385995676839938</th>\n",
       "      <td>RT @jkfecke: That is not how vaccines work. ht...</td>\n",
       "      <td>2020-10-11 20:17:14+00:00</td>\n",
       "      <td>0</td>\n",
       "      <td>0</td>\n",
       "      <td>0</td>\n",
       "      <td>0</td>\n",
       "      <td>1</td>\n",
       "      <td>vaccines_and_medicines</td>\n",
       "      <td>0</td>\n",
       "      <td>0</td>\n",
       "      <td>0</td>\n",
       "      <td>0</td>\n",
       "      <td>True</td>\n",
       "      <td>True</td>\n",
       "      <td>False</td>\n",
       "    </tr>\n",
       "    <tr>\n",
       "      <th>1315327582620053504</th>\n",
       "      <td>On ABC News this morning, Eric Trump said his ...</td>\n",
       "      <td>2020-10-11 16:25:07+00:00</td>\n",
       "      <td>0</td>\n",
       "      <td>0</td>\n",
       "      <td>1</td>\n",
       "      <td>0</td>\n",
       "      <td>0</td>\n",
       "      <td>vaccines_and_medicines</td>\n",
       "      <td>83</td>\n",
       "      <td>191</td>\n",
       "      <td>51</td>\n",
       "      <td>739</td>\n",
       "      <td>False</td>\n",
       "      <td>False</td>\n",
       "      <td>False</td>\n",
       "    </tr>\n",
       "    <tr>\n",
       "      <th>1313389136724725760</th>\n",
       "      <td>@realDonaldTrump Duck the vaccines if the trea...</td>\n",
       "      <td>2020-10-06 08:02:26+00:00</td>\n",
       "      <td>0</td>\n",
       "      <td>0</td>\n",
       "      <td>0</td>\n",
       "      <td>1</td>\n",
       "      <td>0</td>\n",
       "      <td>vaccines_and_medicines</td>\n",
       "      <td>0</td>\n",
       "      <td>0</td>\n",
       "      <td>0</td>\n",
       "      <td>0</td>\n",
       "      <td>False</td>\n",
       "      <td>False</td>\n",
       "      <td>True</td>\n",
       "    </tr>\n",
       "    <tr>\n",
       "      <th>1315856227528667136</th>\n",
       "      <td>RT @DarlaShine: \"You tell everybody my dad wil...</td>\n",
       "      <td>2020-10-13 03:25:46+00:00</td>\n",
       "      <td>0</td>\n",
       "      <td>0</td>\n",
       "      <td>0</td>\n",
       "      <td>1</td>\n",
       "      <td>0</td>\n",
       "      <td>vaccines_and_medicines</td>\n",
       "      <td>0</td>\n",
       "      <td>0</td>\n",
       "      <td>0</td>\n",
       "      <td>0</td>\n",
       "      <td>True</td>\n",
       "      <td>True</td>\n",
       "      <td>False</td>\n",
       "    </tr>\n",
       "    <tr>\n",
       "      <th>1315439303489736704</th>\n",
       "      <td>Shannon Kroner got the opportunity to meet wit...</td>\n",
       "      <td>2020-10-11 23:49:04+00:00</td>\n",
       "      <td>0.33</td>\n",
       "      <td>0</td>\n",
       "      <td>0.67</td>\n",
       "      <td>0</td>\n",
       "      <td>0</td>\n",
       "      <td>vaccines_and_medicines</td>\n",
       "      <td>27</td>\n",
       "      <td>189</td>\n",
       "      <td>33</td>\n",
       "      <td>401</td>\n",
       "      <td>False</td>\n",
       "      <td>False</td>\n",
       "      <td>False</td>\n",
       "    </tr>\n",
       "  </tbody>\n",
       "</table>\n",
       "</div>"
      ],
      "text/plain": [
       "                                                                  text  \\\n",
       "1315385995676839938  RT @jkfecke: That is not how vaccines work. ht...   \n",
       "1315327582620053504  On ABC News this morning, Eric Trump said his ...   \n",
       "1313389136724725760  @realDonaldTrump Duck the vaccines if the trea...   \n",
       "1315856227528667136  RT @DarlaShine: \"You tell everybody my dad wil...   \n",
       "1315439303489736704  Shannon Kroner got the opportunity to meet wit...   \n",
       "\n",
       "                                          date happy angry surprise sad fear  \\\n",
       "1315385995676839938  2020-10-11 20:17:14+00:00     0     0        0   0    1   \n",
       "1315327582620053504  2020-10-11 16:25:07+00:00     0     0        1   0    0   \n",
       "1313389136724725760  2020-10-06 08:02:26+00:00     0     0        0   1    0   \n",
       "1315856227528667136  2020-10-13 03:25:46+00:00     0     0        0   1    0   \n",
       "1315439303489736704  2020-10-11 23:49:04+00:00  0.33     0     0.67   0    0   \n",
       "\n",
       "                                      topic reply_count retweet_count  \\\n",
       "1315385995676839938  vaccines_and_medicines           0             0   \n",
       "1315327582620053504  vaccines_and_medicines          83           191   \n",
       "1313389136724725760  vaccines_and_medicines           0             0   \n",
       "1315856227528667136  vaccines_and_medicines           0             0   \n",
       "1315439303489736704  vaccines_and_medicines          27           189   \n",
       "\n",
       "                    quote_count favorite_count retweet  quote  reply  \n",
       "1315385995676839938           0              0    True   True  False  \n",
       "1315327582620053504          51            739   False  False  False  \n",
       "1313389136724725760           0              0   False  False   True  \n",
       "1315856227528667136           0              0    True   True  False  \n",
       "1315439303489736704          33            401   False  False  False  "
      ]
     },
     "execution_count": 20,
     "metadata": {},
     "output_type": "execute_result"
    }
   ],
   "source": [
    "all_df['tweets'].head()"
   ]
  },
  {
   "cell_type": "code",
   "execution_count": 21,
   "metadata": {},
   "outputs": [
    {
     "data": {
      "text/html": [
       "<div>\n",
       "<style scoped>\n",
       "    .dataframe tbody tr th:only-of-type {\n",
       "        vertical-align: middle;\n",
       "    }\n",
       "\n",
       "    .dataframe tbody tr th {\n",
       "        vertical-align: top;\n",
       "    }\n",
       "\n",
       "    .dataframe thead th {\n",
       "        text-align: right;\n",
       "    }\n",
       "</style>\n",
       "<table border=\"1\" class=\"dataframe\">\n",
       "  <thead>\n",
       "    <tr style=\"text-align: right;\">\n",
       "      <th></th>\n",
       "      <th>tID</th>\n",
       "      <th>tID_re</th>\n",
       "      <th>topic</th>\n",
       "    </tr>\n",
       "  </thead>\n",
       "  <tbody>\n",
       "    <tr>\n",
       "      <th>0</th>\n",
       "      <td>1315385995676839938</td>\n",
       "      <td>1315385063362699270</td>\n",
       "      <td>vaccines_and_medicines</td>\n",
       "    </tr>\n",
       "    <tr>\n",
       "      <th>1</th>\n",
       "      <td>1315856227528667136</td>\n",
       "      <td>1315772869788479488</td>\n",
       "      <td>vaccines_and_medicines</td>\n",
       "    </tr>\n",
       "    <tr>\n",
       "      <th>2</th>\n",
       "      <td>1315185398000254976</td>\n",
       "      <td>1315170291052679168</td>\n",
       "      <td>vaccines_and_medicines</td>\n",
       "    </tr>\n",
       "    <tr>\n",
       "      <th>3</th>\n",
       "      <td>1315373970632441863</td>\n",
       "      <td>1315170291052679168</td>\n",
       "      <td>vaccines_and_medicines</td>\n",
       "    </tr>\n",
       "    <tr>\n",
       "      <th>4</th>\n",
       "      <td>1313196980303212551</td>\n",
       "      <td>1313192155817685000</td>\n",
       "      <td>vaccines_and_medicines</td>\n",
       "    </tr>\n",
       "  </tbody>\n",
       "</table>\n",
       "</div>"
      ],
      "text/plain": [
       "                   tID               tID_re                   topic\n",
       "0  1315385995676839938  1315385063362699270  vaccines_and_medicines\n",
       "1  1315856227528667136  1315772869788479488  vaccines_and_medicines\n",
       "2  1315185398000254976  1315170291052679168  vaccines_and_medicines\n",
       "3  1315373970632441863  1315170291052679168  vaccines_and_medicines\n",
       "4  1313196980303212551  1313192155817685000  vaccines_and_medicines"
      ]
     },
     "execution_count": 21,
     "metadata": {},
     "output_type": "execute_result"
    }
   ],
   "source": [
    "all_df['retweets'].head()"
   ]
  },
  {
   "cell_type": "code",
   "execution_count": 26,
   "metadata": {},
   "outputs": [
    {
     "data": {
      "text/html": [
       "<div>\n",
       "<style scoped>\n",
       "    .dataframe tbody tr th:only-of-type {\n",
       "        vertical-align: middle;\n",
       "    }\n",
       "\n",
       "    .dataframe tbody tr th {\n",
       "        vertical-align: top;\n",
       "    }\n",
       "\n",
       "    .dataframe thead th {\n",
       "        text-align: right;\n",
       "    }\n",
       "</style>\n",
       "<table border=\"1\" class=\"dataframe\">\n",
       "  <thead>\n",
       "    <tr style=\"text-align: right;\">\n",
       "      <th></th>\n",
       "      <th>uID</th>\n",
       "      <th>tID</th>\n",
       "    </tr>\n",
       "  </thead>\n",
       "  <tbody>\n",
       "    <tr>\n",
       "      <th>0</th>\n",
       "      <td>17138386</td>\n",
       "      <td>1315385995676839938</td>\n",
       "    </tr>\n",
       "    <tr>\n",
       "      <th>1</th>\n",
       "      <td>15464697</td>\n",
       "      <td>1315327582620053504</td>\n",
       "    </tr>\n",
       "    <tr>\n",
       "      <th>2</th>\n",
       "      <td>1212935332192112640</td>\n",
       "      <td>1313389136724725760</td>\n",
       "    </tr>\n",
       "    <tr>\n",
       "      <th>3</th>\n",
       "      <td>1250465080904265734</td>\n",
       "      <td>1315856227528667136</td>\n",
       "    </tr>\n",
       "    <tr>\n",
       "      <th>4</th>\n",
       "      <td>1499607608</td>\n",
       "      <td>1315439303489736704</td>\n",
       "    </tr>\n",
       "  </tbody>\n",
       "</table>\n",
       "</div>"
      ],
      "text/plain": [
       "                   uID                  tID\n",
       "0             17138386  1315385995676839938\n",
       "1             15464697  1315327582620053504\n",
       "2  1212935332192112640  1313389136724725760\n",
       "3  1250465080904265734  1315856227528667136\n",
       "4           1499607608  1315439303489736704"
      ]
     },
     "execution_count": 26,
     "metadata": {},
     "output_type": "execute_result"
    }
   ],
   "source": [
    "all_df['posts'][['uID','tID']].head()"
   ]
  },
  {
   "cell_type": "code",
   "execution_count": 29,
   "metadata": {},
   "outputs": [
    {
     "data": {
      "text/html": [
       "<div>\n",
       "<style scoped>\n",
       "    .dataframe tbody tr th:only-of-type {\n",
       "        vertical-align: middle;\n",
       "    }\n",
       "\n",
       "    .dataframe tbody tr th {\n",
       "        vertical-align: top;\n",
       "    }\n",
       "\n",
       "    .dataframe thead th {\n",
       "        text-align: right;\n",
       "    }\n",
       "</style>\n",
       "<table border=\"1\" class=\"dataframe\">\n",
       "  <thead>\n",
       "    <tr style=\"text-align: right;\">\n",
       "      <th></th>\n",
       "      <th>tID</th>\n",
       "      <th>tID_rp</th>\n",
       "      <th>uID_rp</th>\n",
       "      <th>topic</th>\n",
       "    </tr>\n",
       "  </thead>\n",
       "  <tbody>\n",
       "    <tr>\n",
       "      <th>0</th>\n",
       "      <td>1313389136724725760</td>\n",
       "      <td>1313267615083761665</td>\n",
       "      <td>25073877</td>\n",
       "      <td>vaccines_and_medicines</td>\n",
       "    </tr>\n",
       "    <tr>\n",
       "      <th>1</th>\n",
       "      <td>1313394196376702976</td>\n",
       "      <td>1313267143232942081</td>\n",
       "      <td>25073877</td>\n",
       "      <td>vaccines_and_medicines</td>\n",
       "    </tr>\n",
       "    <tr>\n",
       "      <th>2</th>\n",
       "      <td>1313395528026083328</td>\n",
       "      <td>1313375957319741441</td>\n",
       "      <td>984974481683722241</td>\n",
       "      <td>vaccines_and_medicines</td>\n",
       "    </tr>\n",
       "    <tr>\n",
       "      <th>3</th>\n",
       "      <td>1313924088079892480</td>\n",
       "      <td>1313843369785856002</td>\n",
       "      <td>25073877</td>\n",
       "      <td>vaccines_and_medicines</td>\n",
       "    </tr>\n",
       "    <tr>\n",
       "      <th>4</th>\n",
       "      <td>1313296452551086081</td>\n",
       "      <td>1313267615083761665</td>\n",
       "      <td>25073877</td>\n",
       "      <td>vaccines_and_medicines</td>\n",
       "    </tr>\n",
       "  </tbody>\n",
       "</table>\n",
       "</div>"
      ],
      "text/plain": [
       "                   tID               tID_rp              uID_rp  \\\n",
       "0  1313389136724725760  1313267615083761665            25073877   \n",
       "1  1313394196376702976  1313267143232942081            25073877   \n",
       "2  1313395528026083328  1313375957319741441  984974481683722241   \n",
       "3  1313924088079892480  1313843369785856002            25073877   \n",
       "4  1313296452551086081  1313267615083761665            25073877   \n",
       "\n",
       "                    topic  \n",
       "0  vaccines_and_medicines  \n",
       "1  vaccines_and_medicines  \n",
       "2  vaccines_and_medicines  \n",
       "3  vaccines_and_medicines  \n",
       "4  vaccines_and_medicines  "
      ]
     },
     "execution_count": 29,
     "metadata": {},
     "output_type": "execute_result"
    }
   ],
   "source": [
    "all_df['replies'].head()"
   ]
  },
  {
   "cell_type": "code",
   "execution_count": null,
   "metadata": {},
   "outputs": [],
   "source": []
  }
 ],
 "metadata": {
  "kernelspec": {
   "display_name": "Python 3",
   "language": "python",
   "name": "python3"
  },
  "language_info": {
   "codemirror_mode": {
    "name": "ipython",
    "version": 3
   },
   "file_extension": ".py",
   "mimetype": "text/x-python",
   "name": "python",
   "nbconvert_exporter": "python",
   "pygments_lexer": "ipython3",
   "version": "3.7.4"
  }
 },
 "nbformat": 4,
 "nbformat_minor": 2
}
